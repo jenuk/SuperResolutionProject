{
 "cells": [
  {
   "cell_type": "markdown",
   "metadata": {},
   "source": [
    "Cells to use test.ipynb in google colab (assumes zipped data in drive)"
   ]
  },
  {
   "cell_type": "markdown",
   "metadata": {},
   "source": [
    "Execute at beginning of test when run in google colab."
   ]
  },
  {
   "cell_type": "code",
   "execution_count": null,
   "metadata": {},
   "outputs": [],
   "source": [
    "from google.colab import drive\n",
    "drive.mount(\"/content/gdrive\")"
   ]
  },
  {
   "cell_type": "code",
   "execution_count": null,
   "metadata": {},
   "outputs": [],
   "source": [
    "import os\n",
    "os.chdir(\"gdrive/My Drive/super_resolution/SuperResolutionProject/src\")"
   ]
  },
  {
   "cell_type": "markdown",
   "metadata": {},
   "source": [
    "Run Setup now."
   ]
  },
  {
   "cell_type": "code",
   "execution_count": null,
   "metadata": {},
   "outputs": [],
   "source": [
    "os.chdir(\"/content\")\n",
    "!mkdir data\n",
    "!echo \"copying\"\n",
    "!cp \"/content/gdrive/My Drive/super_resolution/SuperResolutionProject/src/data/small1_256x256.zip\" data/\n",
    "!cp \"/content/gdrive/My Drive/super_resolution/SuperResolutionProject/src/data/small2_256x256.zip\" data/\n",
    "!echo \"unzipping\"\n",
    "!mkdir data/small256x256\n",
    "!unzip -q data/small1_256x256.zip -d data/small256x256\n",
    "!unzip -q data/small2_256x256.zip -d data/small256x256\n",
    "!echo \"removing\"\n",
    "!rm data/small1_256x256.zip\n",
    "!rm data/small2_256x256.zip"
   ]
  },
  {
   "cell_type": "markdown",
   "metadata": {},
   "source": [
    "Not important"
   ]
  },
  {
   "cell_type": "code",
   "execution_count": null,
   "metadata": {},
   "outputs": [],
   "source": [
    "os.chdir(\"/content\")\n",
    "!mkdir data\n",
    "os.chdir(\"data\")\n",
    "!echo \"copying\"\n",
    "!cp \"/content/gdrive/My Drive/super_resolution/SuperResolutionProject/src/data/thumbnails.zip\" thumbnails.zip\n",
    "!echo \"unzipping\"\n",
    "!unzip -q thumbnails.zip\n",
    "os.chdir(\"/content\")"
   ]
  },
  {
   "cell_type": "code",
   "execution_count": null,
   "metadata": {},
   "outputs": [],
   "source": [
    "os.chdir(\"data\")\n",
    "from make_hdf5 import make_hdf5"
   ]
  },
  {
   "cell_type": "code",
   "execution_count": null,
   "metadata": {},
   "outputs": [],
   "source": [
    "in_folder = \"thumbnails128x128\"\n",
    "out_folder = \".\"\n",
    "filename = \"thumbs\"\n",
    "size = 128\n",
    "\n",
    "make_hdf5(in_folder, out_folder, filename, size)"
   ]
  }
 ],
 "metadata": {
  "kernelspec": {
   "display_name": "Python 3",
   "language": "python",
   "name": "python3"
  },
  "language_info": {
   "codemirror_mode": {
    "name": "ipython",
    "version": 3
   },
   "file_extension": ".py",
   "mimetype": "text/x-python",
   "name": "python",
   "nbconvert_exporter": "python",
   "pygments_lexer": "ipython3",
   "version": "3.7.4"
  }
 },
 "nbformat": 4,
 "nbformat_minor": 4
}
