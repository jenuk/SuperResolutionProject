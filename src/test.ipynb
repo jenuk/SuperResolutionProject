{
 "cells": [
  {
   "cell_type": "markdown",
   "metadata": {},
   "source": [
    "A simple notebook for testing a SR model."
   ]
  },
  {
   "cell_type": "code",
   "execution_count": null,
   "metadata": {},
   "outputs": [],
   "source": [
    "import torch\n",
    "from torch import nn\n",
    "from torch.utils.data import DataLoader\n",
    "from torchvision import transforms\n",
    "import numpy as np\n",
    "from matplotlib import pyplot as plt\n",
    "from tqdm.auto import tqdm"
   ]
  },
  {
   "cell_type": "code",
   "execution_count": null,
   "metadata": {},
   "outputs": [],
   "source": [
    "from facedataset import FaceDataset\n",
    "from metrics import mse_loss, psnr\n",
    "from utils import inner_pad, clip"
   ]
  },
  {
   "cell_type": "code",
   "execution_count": null,
   "metadata": {},
   "outputs": [],
   "source": [
    "batch_size = 32"
   ]
  },
  {
   "cell_type": "code",
   "execution_count": null,
   "metadata": {},
   "outputs": [],
   "source": [
    "train_set = FaceDataset(\"data/thumbnails128x128\", 0, 55000, 32, 64)\n",
    "train_loader = DataLoader(train_set, batch_size = batch_size, shuffle=True)"
   ]
  },
  {
   "cell_type": "code",
   "execution_count": null,
   "metadata": {
    "scrolled": true
   },
   "outputs": [],
   "source": [
    "fig, ax = plt.subplots(batch_size, 2)\n",
    "for lower, higher in train_loader:\n",
    "    for i in range(batch_size):\n",
    "        ax[i][0].imshow(lower[i].detach().permute(1,2,0))\n",
    "        ax[i][1].imshow(higher[i].detach().permute(1,2,0))\n",
    "        ax[i][0].axis('off')\n",
    "        ax[i][1].axis('off')\n",
    "    break\n",
    "fig.set_size_inches(6, 3*batch_size)\n",
    "plt.tight_layout()\n",
    "plt.show()"
   ]
  },
  {
   "cell_type": "code",
   "execution_count": null,
   "metadata": {},
   "outputs": [],
   "source": [
    "class Model(nn.Module):\n",
    "    def __init__(self):\n",
    "        super().__init__()\n",
    "        \n",
    "        self.relu = nn.ReLU()\n",
    "        self.conv1 = nn.Conv2d(3, 64, 9, padding = 4)\n",
    "        self.conv2 = nn.Conv2d(64, 32, 5, padding = 2)\n",
    "        self.conv3 = nn.Conv2d(32, 32, 5, padding = 2)\n",
    "        self.conv4 = nn.Conv2d(32, 3, 5, padding = 2)\n",
    "        \n",
    "    \n",
    "    def forward(self, x):\n",
    "        out = inner_pad(x - 0.5, 2)\n",
    "        out = self.conv1(out)\n",
    "        out = self.relu(out)\n",
    "        out = self.conv2(out)\n",
    "        out = self.relu(out)\n",
    "        out = self.conv3(out)\n",
    "        out = self.relu(out)\n",
    "        return self.conv4(out)"
   ]
  },
  {
   "cell_type": "code",
   "execution_count": null,
   "metadata": {},
   "outputs": [],
   "source": [
    "model = Model()\n",
    "optimizer = torch.optim.Adam(model.parameters(), 1e-4)"
   ]
  },
  {
   "cell_type": "code",
   "execution_count": null,
   "metadata": {},
   "outputs": [],
   "source": [
    "optimizer = torch.optim.Adam(model.parameters(), 1e-4)"
   ]
  },
  {
   "cell_type": "code",
   "execution_count": null,
   "metadata": {
    "scrolled": true
   },
   "outputs": [],
   "source": [
    "model.train()\n",
    "\n",
    "lloss = []\n",
    "\n",
    "for k, (img, target) in tqdm(enumerate(train_loader), total=len(train_loader)):\n",
    "    optimizer.zero_grad()\n",
    "    out = model(img)\n",
    "    loss = mse_loss(out, target)\n",
    "    loss.backward()\n",
    "    optimizer.step()\n",
    "    lloss.append(loss.detach())\n",
    "    if k % 25 == 0:\n",
    "        print(f\"{np.mean(lloss):.6f}\")\n",
    "        lloss = []"
   ]
  },
  {
   "cell_type": "code",
   "execution_count": null,
   "metadata": {},
   "outputs": [],
   "source": [
    "val_set = FaceDataset(\"data/thumbnails128x128\", 55000, 65000, 32, 64)\n",
    "val_loader = DataLoader(val_set, batch_size = batch_size, shuffle=True)"
   ]
  },
  {
   "cell_type": "code",
   "execution_count": null,
   "metadata": {},
   "outputs": [],
   "source": [
    "model.eval()\n",
    "\n",
    "with torch.no_grad():\n",
    "    val_psnr = []\n",
    "\n",
    "    for img, target in tqdm(val_loader):\n",
    "        out = model(img)\n",
    "        val_psnr.append(psnr(out, target))\n",
    "\n",
    "    print(f\"Mean PSNR {torch.mean(val_psnr):.2f} ± {torch.std(val_psnr)}\")"
   ]
  },
  {
   "cell_type": "code",
   "execution_count": null,
   "metadata": {},
   "outputs": [],
   "source": [
    "val_psnr = torch.cat(val_psnr)\n",
    "print(f\"Mean PSNR {torch.mean(val_psnr):.2f} ± {torch.std(val_psnr):.2f}\")"
   ]
  },
  {
   "cell_type": "code",
   "execution_count": null,
   "metadata": {},
   "outputs": [],
   "source": [
    "model.eval()\n",
    "\n",
    "with torch.no_grad():\n",
    "    it = iter(val_loader)\n",
    "    img, target = next(it)\n",
    "    out = clip(model(img))"
   ]
  },
  {
   "cell_type": "code",
   "execution_count": null,
   "metadata": {
    "scrolled": true
   },
   "outputs": [],
   "source": [
    "fig, ax = plt.subplots(batch_size, 3)\n",
    "for i in range(batch_size):\n",
    "    ax[i][0].imshow(img[i].permute(1,2,0))\n",
    "    ax[i][1].imshow(out[i].permute(1,2,0))\n",
    "    ax[i][2].imshow(target[i].permute(1,2,0))\n",
    "    ax[i][0].axis('off')\n",
    "    ax[i][1].axis('off')\n",
    "    ax[i][2].axis('off')\n",
    "fig.set_size_inches(9, 3*batch_size)\n",
    "\n",
    "plt.show()"
   ]
  },
  {
   "cell_type": "code",
   "execution_count": null,
   "metadata": {},
   "outputs": [],
   "source": [
    "model.eval()\n",
    "\n",
    "with torch.no_grad():\n",
    "    steps = 4\n",
    "    fig, ax = plt.subplots(2, steps)\n",
    "    img, target = next(iter(val_loader))\n",
    "    img, target = img[0], target[0]\n",
    "    ax[0][0].imshow(img.permute(1,2,0))\n",
    "    ax[0][-1].imshow(target.permute(1,2,0))\n",
    "    ax[0][0].axis('off')\n",
    "    ax[0][-1].axis('off')\n",
    "    for i in range(1,steps-1):\n",
    "        fig.delaxes(ax[0][i])\n",
    "\n",
    "    out = img.unsqueeze(0)\n",
    "    for k in range(steps):\n",
    "        out = clip(model(out))\n",
    "        ax[1][k].imshow(out[0].permute(1,2,0))\n",
    "        ax[1][k].axis('off')\n",
    "    \n",
    "    fig.set_size_inches(3*steps, 6)\n",
    "    plt.show()"
   ]
  },
  {
   "cell_type": "code",
   "execution_count": null,
   "metadata": {},
   "outputs": [],
   "source": []
  }
 ],
 "metadata": {
  "kernelspec": {
   "display_name": "Python 3",
   "language": "python",
   "name": "python3"
  },
  "language_info": {
   "codemirror_mode": {
    "name": "ipython",
    "version": 3
   },
   "file_extension": ".py",
   "mimetype": "text/x-python",
   "name": "python",
   "nbconvert_exporter": "python",
   "pygments_lexer": "ipython3",
   "version": "3.7.4"
  }
 },
 "nbformat": 4,
 "nbformat_minor": 4
}
