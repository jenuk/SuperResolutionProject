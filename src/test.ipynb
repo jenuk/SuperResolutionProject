{
 "cells": [
  {
   "cell_type": "markdown",
   "metadata": {},
   "source": [
    "A simple notebook for testing a SR model."
   ]
  },
  {
   "cell_type": "markdown",
   "metadata": {},
   "source": [
    "# Setup"
   ]
  },
  {
   "cell_type": "code",
   "execution_count": null,
   "metadata": {},
   "outputs": [],
   "source": [
    "import torch\n",
    "from torch import nn\n",
    "from torch.utils.data import DataLoader\n",
    "from torchvision import transforms\n",
    "import numpy as np\n",
    "import random\n",
    "from matplotlib import pyplot as plt\n",
    "from tqdm.auto import tqdm"
   ]
  },
  {
   "cell_type": "code",
   "execution_count": null,
   "metadata": {},
   "outputs": [],
   "source": [
    "from facedataset import FaceDataset\n",
    "from metrics import mse_loss, psnr\n",
    "from utils import inner_pad, clip"
   ]
  },
  {
   "cell_type": "code",
   "execution_count": null,
   "metadata": {},
   "outputs": [],
   "source": [
    "from model import Model"
   ]
  },
  {
   "cell_type": "code",
   "execution_count": null,
   "metadata": {},
   "outputs": [],
   "source": [
    "import PIL\n",
    "from classic_model import Classic"
   ]
  },
  {
   "cell_type": "markdown",
   "metadata": {},
   "source": [
    "Make torch as determenistic as possible:"
   ]
  },
  {
   "cell_type": "code",
   "execution_count": null,
   "metadata": {},
   "outputs": [],
   "source": [
    "random.seed(714)\n",
    "np.random.seed(714)\n",
    "torch.manual_seed(714)\n",
    "\n",
    "torch.backends.cudnn.deterministic = True\n",
    "torch.backends.cudnn.benchmark = False"
   ]
  },
  {
   "cell_type": "markdown",
   "metadata": {},
   "source": [
    "Hyperparameters:"
   ]
  },
  {
   "cell_type": "code",
   "execution_count": null,
   "metadata": {},
   "outputs": [],
   "source": [
    "batch_size = 64\n",
    "input_size = 32\n",
    "output_size = 64\n",
    "use_gpu = torch.cuda.is_available()\n",
    "\n",
    "name = \"convolutional\" # for weights file\n",
    "num_examples = 10 # number of examples printed"
   ]
  },
  {
   "cell_type": "code",
   "execution_count": null,
   "metadata": {},
   "outputs": [],
   "source": [
    "train_set = FaceDataset(\"data/thumbnails128x128\", 0, 55000, input_size, output_size)\n",
    "train_loader = DataLoader(train_set, batch_size = batch_size, shuffle=True)\n",
    "train2_loader = DataLoader(train_set, batch_size = 2*batch_size, shuffle=True, drop_last=True) # double batch size"
   ]
  },
  {
   "cell_type": "code",
   "execution_count": null,
   "metadata": {},
   "outputs": [],
   "source": [
    "val_set = FaceDataset(\"data/thumbnails128x128\", 55000, 65000, input_size, output_size)\n",
    "val_loader = DataLoader(val_set, batch_size = batch_size, shuffle=True)"
   ]
  },
  {
   "cell_type": "markdown",
   "metadata": {},
   "source": [
    "Ignore test set (65 000 -- 70 000) for now"
   ]
  },
  {
   "cell_type": "markdown",
   "metadata": {
    "heading_collapsed": true
   },
   "source": [
    "## Example Batch\n"
   ]
  },
  {
   "cell_type": "code",
   "execution_count": null,
   "metadata": {
    "hidden": true,
    "scrolled": true
   },
   "outputs": [],
   "source": [
    "fig, ax = plt.subplots(num_examples, 2)\n",
    "for lower, higher in train_loader:\n",
    "    for i in range(num_examples):\n",
    "        ax[i][0].imshow(lower[i].detach().permute(1,2,0))\n",
    "        ax[i][1].imshow(higher[i].detach().permute(1,2,0))\n",
    "        ax[i][0].axis('off')\n",
    "        ax[i][1].axis('off')\n",
    "    break\n",
    "fig.set_size_inches(6, 3*num_examples)\n",
    "plt.tight_layout()\n",
    "plt.show()"
   ]
  },
  {
   "cell_type": "markdown",
   "metadata": {},
   "source": [
    "# Training"
   ]
  },
  {
   "cell_type": "code",
   "execution_count": null,
   "metadata": {},
   "outputs": [],
   "source": [
    "class Discriminator(nn.Module):\n",
    "    def __init__(self, input_size):\n",
    "        super().__init__()\n",
    "        \n",
    "        self.input_size = input_size\n",
    "        \n",
    "        self.convs = nn.Sequential(\n",
    "            nn.Conv2d(3, 32, 3, padding=1),\n",
    "            nn.ReLU(),\n",
    "#             nn.Conv2d(64, 32, 3, padding=1),\n",
    "#             nn.ReLU(),\n",
    "#             nn.Conv2d(32, 32, 3, padding=1),\n",
    "#             nn.ReLU(),\n",
    "        )\n",
    "        self.fcs = nn.Sequential(\n",
    "            nn.Linear(32*input_size**2, 100),\n",
    "            nn.ReLU(),\n",
    "#             nn.Linear(100, 100),\n",
    "#             nn.ReLU(),\n",
    "            nn.Linear(100, 1),\n",
    "        )\n",
    "        # -> 0 for real data\n",
    "        # -> 1 for upscaled data\n",
    "    \n",
    "    def forward(self, x):\n",
    "        out = self.convs(x)\n",
    "        out = out.reshape(-1, 32*self.input_size**2)\n",
    "        out = self.fcs(out)\n",
    "        \n",
    "        return out"
   ]
  },
  {
   "cell_type": "code",
   "execution_count": null,
   "metadata": {},
   "outputs": [],
   "source": [
    "def train_model(model, optimizer, freq):\n",
    "    model.train()\n",
    "\n",
    "    lloss = []\n",
    "\n",
    "    for k, (img, target) in tqdm(enumerate(train_loader), total=len(train_loader)):\n",
    "        if use_gpu:\n",
    "            img = img.cuda()\n",
    "            target = target.cuda()\n",
    "        \n",
    "        optimizer.zero_grad()\n",
    "        out = model(img)\n",
    "        loss = mse_loss(out, target)\n",
    "        loss.backward()\n",
    "        optimizer.step()\n",
    "        lloss.append(loss.detach())\n",
    "        if k % freq == 0:\n",
    "            lloss = torch.tensor(lloss)\n",
    "            print(f\"{torch.mean(lloss):.6f}\")\n",
    "            lloss = []"
   ]
  },
  {
   "cell_type": "code",
   "execution_count": null,
   "metadata": {},
   "outputs": [],
   "source": [
    "def train_discriminator(model, discriminator, optimizer, freq):\n",
    "    model.eval()\n",
    "    discriminator.train()\n",
    "    \n",
    "    criterion = nn.BCELoss()\n",
    "    \n",
    "    accs = []\n",
    "    \n",
    "    for k, (img, target) in tqdm(enumerate(train2_loader), total=len(train2_loader)):\n",
    "        if use_gpu:\n",
    "            img = img.cuda()\n",
    "            target = target.cuda()\n",
    "        \n",
    "        with torch.no_grad():\n",
    "            upscaled = model(img[:batch_size])\n",
    "        orig = target[batch_size:]\n",
    "        \n",
    "        optimizer.zero_grad()\n",
    "        \n",
    "        pred_upscaled = discriminator(upscaled)\n",
    "        l1 = criterion(torch.sigmoid(pred_upscaled), torch.ones(batch_size, 1))\n",
    "        \n",
    "        pred_orig = discriminator(orig)\n",
    "        l2 = criterion(torch.sigmoid(pred_orig), torch.zeros(batch_size, 1))\n",
    "        \n",
    "        loss = l1 + l2\n",
    "        loss.backward()\n",
    "        optimizer.step()\n",
    "        \n",
    "        accs.append((torch.sum(pred_upscaled > 0.5) + torch.sum(pred_orig <= 0.5)).float()/(2*batch_size))\n",
    "        if k % freq == 0:\n",
    "            accs = torch.tensor(accs)\n",
    "            print(f\"{torch.mean(accs):.6f}\")\n",
    "            print(f\"Upscale acc: {torch.sum(pred_upscaled > 0.5).float()/batch_size}\", end=\" \")\n",
    "            print(f\"Orig acc: {torch.sum(pred_orig <= 0.5).float()/batch_size}\")\n",
    "            print(f\"l1: {l1}, l2: {l2}\")\n",
    "            accs = []"
   ]
  },
  {
   "cell_type": "code",
   "execution_count": null,
   "metadata": {},
   "outputs": [],
   "source": [
    "def save_model(model):\n",
    "    torch.save(model.state_dict(), 'weights/{name}.ckpt')"
   ]
  },
  {
   "cell_type": "code",
   "execution_count": null,
   "metadata": {
    "code_folding": []
   },
   "outputs": [],
   "source": [
    "model = Model()\n",
    "if use_gpu:\n",
    "    model = model.cuda()"
   ]
  },
  {
   "cell_type": "code",
   "execution_count": null,
   "metadata": {
    "code_folding": []
   },
   "outputs": [],
   "source": [
    "discriminator = Discriminator(output_size)\n",
    "if use_gpu:\n",
    "    model = model.cuda()"
   ]
  },
  {
   "cell_type": "markdown",
   "metadata": {},
   "source": [
    "## Trainings programm"
   ]
  },
  {
   "cell_type": "code",
   "execution_count": null,
   "metadata": {},
   "outputs": [],
   "source": [
    "train_model(model, torch.optim.Adam(model.parameters(), 1e-4), 10)"
   ]
  },
  {
   "cell_type": "code",
   "execution_count": null,
   "metadata": {
    "scrolled": true
   },
   "outputs": [],
   "source": [
    "train_discriminator(model, discriminator, torch.optim.Adam(discriminator.parameters(), 1e-4), 15)"
   ]
  },
  {
   "cell_type": "code",
   "execution_count": null,
   "metadata": {
    "scrolled": true
   },
   "outputs": [],
   "source": [
    "opt = torch.optim.Adam(model.parameters(), 1e-4)\n",
    "train_model(model, opt, 80)\n",
    "train_model(model, opt, 80)\n",
    "train_model(model, opt, 80)\n",
    "train_model(model, opt, 80)\n",
    "opt = torch.optim.Adam(model.parameters(), 1e-5)\n",
    "train_model(model, opt, 80)\n",
    "train_model(model, opt, 80)"
   ]
  },
  {
   "cell_type": "markdown",
   "metadata": {},
   "source": [
    "# Evaluation"
   ]
  },
  {
   "cell_type": "code",
   "execution_count": null,
   "metadata": {
    "scrolled": false
   },
   "outputs": [],
   "source": [
    "model.eval()\n",
    "\n",
    "with torch.no_grad():\n",
    "    val_psnr = []\n",
    "\n",
    "    for img, target in tqdm(val_loader):\n",
    "        if use_gpu:\n",
    "            img = img.cuda()\n",
    "            target = target.cuda()\n",
    "        out = model(img)\n",
    "        val_psnr.append(psnr(out, target))\n",
    "        \n",
    "\n",
    "    val_psnr = torch.cat(val_psnr)\n",
    "    print(f\"Mean PSNR {torch.mean(val_psnr):.2f} ± {torch.std(val_psnr):.2f}\")"
   ]
  },
  {
   "cell_type": "markdown",
   "metadata": {},
   "source": [
    "Upscaling side to side with input and original:"
   ]
  },
  {
   "cell_type": "code",
   "execution_count": null,
   "metadata": {},
   "outputs": [],
   "source": [
    "model.eval()\n",
    "\n",
    "with torch.no_grad():\n",
    "    it = iter(val_loader)\n",
    "    img, target = next(it)\n",
    "    if use_gpu:\n",
    "        img, target = img.cuda(), target.cuda()\n",
    "    out = clip(model(img)).cpu()\n",
    "    img, target = img.cpu(), target.cpu()\n",
    "    \n",
    "    fig, ax = plt.subplots(num_examples, 3)\n",
    "    for i in range(num_examples):\n",
    "        ax[i][0].imshow(img[i].permute(1,2,0))\n",
    "        ax[i][1].imshow(out[i].permute(1,2,0))\n",
    "        ax[i][2].imshow(target[i].permute(1,2,0))\n",
    "        ax[i][0].axis('off')\n",
    "        ax[i][1].axis('off')\n",
    "        ax[i][2].axis('off')\n",
    "    fig.set_size_inches(12, 4*num_examples+1)\n",
    "    \n",
    "    ax[0][0].set_title(\"Input\")\n",
    "    ax[0][1].set_title(\"Upscaled\")\n",
    "    ax[0][2].set_title(\"Original\")\n",
    "\n",
    "    plt.show()"
   ]
  },
  {
   "cell_type": "markdown",
   "metadata": {},
   "source": [
    "Multiple upscalings in succession:"
   ]
  },
  {
   "cell_type": "code",
   "execution_count": null,
   "metadata": {},
   "outputs": [],
   "source": [
    "model.eval()\n",
    "\n",
    "with torch.no_grad():\n",
    "    steps = 4\n",
    "    fig, ax = plt.subplots(2, steps)\n",
    "    img, target = next(iter(val_loader))\n",
    "    img, target = img[0], target[0]\n",
    "    ax[0][0].imshow(img.permute(1,2,0))\n",
    "    ax[0][-1].imshow(target.permute(1,2,0))\n",
    "    ax[0][0].axis('off')\n",
    "    ax[0][-1].axis('off')\n",
    "    for i in range(1,steps-1):\n",
    "        fig.delaxes(ax[0][i])\n",
    "    \n",
    "    if use_gpu:\n",
    "        img, target = img.cuda(), target.cuda()\n",
    "    out = img.unsqueeze(0)\n",
    "    for k in range(steps):\n",
    "        out = clip(model(out))\n",
    "        ax[1][k].imshow(out[0].permute(1,2,0).cpu())\n",
    "        ax[1][k].axis('off')\n",
    "    \n",
    "    fig.set_size_inches(4*steps, 8)\n",
    "    plt.show()"
   ]
  },
  {
   "cell_type": "code",
   "execution_count": null,
   "metadata": {},
   "outputs": [],
   "source": []
  }
 ],
 "metadata": {
  "kernelspec": {
   "display_name": "Python 3",
   "language": "python",
   "name": "python3"
  },
  "language_info": {
   "codemirror_mode": {
    "name": "ipython",
    "version": 3
   },
   "file_extension": ".py",
   "mimetype": "text/x-python",
   "name": "python",
   "nbconvert_exporter": "python",
   "pygments_lexer": "ipython3",
   "version": "3.7.4"
  }
 },
 "nbformat": 4,
 "nbformat_minor": 4
}
